{
  "nbformat": 4,
  "nbformat_minor": 0,
  "metadata": {
    "colab": {
      "provenance": [],
      "authorship_tag": "ABX9TyNeHrvw5KoMTpmqhZKicoZa",
      "include_colab_link": true
    },
    "kernelspec": {
      "name": "python3",
      "display_name": "Python 3"
    },
    "language_info": {
      "name": "python"
    }
  },
  "cells": [
    {
      "cell_type": "markdown",
      "metadata": {
        "id": "view-in-github",
        "colab_type": "text"
      },
      "source": [
        "<a href=\"https://colab.research.google.com/github/VictorMMontanari/DFS_And_BFS/blob/main/AtividadeParaEntrega.ipynb\" target=\"_parent\"><img src=\"https://colab.research.google.com/assets/colab-badge.svg\" alt=\"Open In Colab\"/></a>"
      ]
    },
    {
      "cell_type": "code",
      "execution_count": null,
      "metadata": {
        "colab": {
          "base_uri": "https://localhost:8080/"
        },
        "id": "2d0RHZbQNmAN",
        "outputId": "1632da57-0be7-4cfb-dbc2-7bf1d8cb36f7"
      },
      "outputs": [
        {
          "output_type": "stream",
          "name": "stdout",
          "text": [
            "6\n"
          ]
        }
      ],
      "source": [
        "# 1 - Implemente uma função que conte e retorne o número total de nós em uma determinada árvore\n",
        "# usando a travessia Depth-First Search (DFS).\n",
        "class Node:\n",
        "    def __init__(self, data):\n",
        "        self.data = data\n",
        "        self.children = []\n",
        "\n",
        "    def add_child(self, child):\n",
        "        self.children.append(child)\n",
        "\n",
        "def countT(node):\n",
        "    if not root:\n",
        "      return 0\n",
        "    count = 1\n",
        "    for child in node.children:\n",
        "        count += countT(child)\n",
        "    return count\n",
        "\n",
        "root = Node(\"A\")\n",
        "node_b = Node(\"B\")\n",
        "node_c = Node(\"C\")\n",
        "node_d = Node(\"D\")\n",
        "node_e = Node(\"E\")\n",
        "node_f = Node(\"F\")\n",
        "\n",
        "root.add_child(node_b)\n",
        "root.add_child(node_c)\n",
        "node_b.add_child(node_d)\n",
        "node_b.add_child(node_e)\n",
        "node_c.add_child(node_f)\n",
        "\n",
        "result = countT(root)\n",
        "\n",
        "print(result)"
      ]
    },
    {
      "cell_type": "code",
      "source": [
        "# 2 - Implemente uma função que calcule e retorne o nível máximo de uma determinada árvore usando\n",
        "# a travessia BFS (Breadth-First Search).\n",
        "\n",
        "from collections import deque\n",
        "\n",
        "\n",
        "class Node:\n",
        "    def __init__(self, data):\n",
        "        self.data = data\n",
        "        self.children = []\n",
        "\n",
        "    def add_child(self, child):\n",
        "        self.children.append(child)\n",
        "\n",
        "\n",
        "def breadth_first_search(root):\n",
        "    if root is None:\n",
        "        return 1\n",
        "\n",
        "    queue = deque()\n",
        "    queue.append((root, 1))  # Tupla (node, level)\n",
        "\n",
        "    count = 1\n",
        "    while queue:\n",
        "        node, nivel = queue.popleft()\n",
        "        count = max(count, nivel)\n",
        "\n",
        "        for child in node.children:\n",
        "            queue.append((child, nivel + 1))\n",
        "\n",
        "    return count\n",
        "\n",
        "\n",
        "# Example usage:\n",
        "# Create a tree structure\n",
        "root = Node(\"A\")\n",
        "node_b = Node(\"B\")\n",
        "node_c = Node(\"C\")\n",
        "node_d = Node(\"D\")\n",
        "node_e = Node(\"E\")\n",
        "node_f = Node(\"F\")\n",
        "\n",
        "root.add_child(node_b)\n",
        "root.add_child(node_c)\n",
        "node_b.add_child(node_d)\n",
        "node_b.add_child(node_e)\n",
        "node_c.add_child(node_f)\n",
        "\n",
        "\n",
        "result = breadth_first_search(root)\n",
        "\n",
        "print(result)\n"
      ],
      "metadata": {
        "colab": {
          "base_uri": "https://localhost:8080/"
        },
        "id": "oWw4wOCpORGI",
        "outputId": "5aa097a6-8e60-44e8-dcef-a1c52ddcfbf8"
      },
      "execution_count": null,
      "outputs": [
        {
          "output_type": "stream",
          "name": "stdout",
          "text": [
            "3\n"
          ]
        }
      ]
    }
  ]
}